{
 "cells": [
  {
   "cell_type": "markdown",
   "metadata": {},
   "source": [
    "# This is an exercise of contraction mapping"
   ]
  },
  {
   "cell_type": "markdown",
   "metadata": {},
   "source": [
    "Consider themost naive contraction mapping:\n",
    "$$x = f(x) = ax, \\ a<1$$\n",
    "The solution is obviously zero for x. However, we can use iterative contraction mapping to get to the solution.\n",
    "First, consider iterative method, where $$x^{n+1} = f(x^{n})$$\n",
    "We iterate the loop until the difference is smaller than tolerance value. "
   ]
  },
  {
   "cell_type": "code",
   "execution_count": 2,
   "metadata": {
    "collapsed": true
   },
   "outputs": [],
   "source": [
    "import numpy as np\n",
    "import time"
   ]
  },
  {
   "cell_type": "code",
   "execution_count": 3,
   "metadata": {
    "collapsed": true
   },
   "outputs": [],
   "source": [
    "def f(x):\n",
    "    return 0.99999214*x"
   ]
  },
  {
   "cell_type": "code",
   "execution_count": 4,
   "metadata": {},
   "outputs": [
    {
     "name": "stdout",
     "output_type": "stream",
     "text": [
      "This is the simple iterative contraction mapping.\n",
      "--- 29.120569229125977 seconds ---\n",
      "9.99999266041e-21\n",
      "22233475\n",
      "1.2722536972535942e-15\n"
     ]
    }
   ],
   "source": [
    "diff = 1000000\n",
    "x = 10001231231313131313131313131313100324234230055435345353000000\n",
    "i = 0 \n",
    "etol = 1e-20\n",
    "\n",
    "start_time = time.time()\n",
    "while etol < diff:\n",
    "    i += 1 \n",
    "    x1 = f(x)\n",
    "    diff = np.abs(x1-x)\n",
    "    x = x1\n",
    "print(\"This is the simple iterative contraction mapping.\")\n",
    "print(\"--- %s seconds ---\" % (time.time() - start_time))\n",
    "print(diff)\n",
    "print(i)\n",
    "print(x)\n",
    "start_time = time.time()"
   ]
  },
  {
   "cell_type": "code",
   "execution_count": 5,
   "metadata": {},
   "outputs": [
    {
     "name": "stdout",
     "output_type": "stream",
     "text": [
      "--- 0.0004999637603759766 seconds ---\n",
      "1.57119686693e-21\n",
      "13\n",
      "-1.63438388794e-22\n"
     ]
    }
   ],
   "source": [
    "diff = 1000000\n",
    "x = 10001231231313131313131313131313100324234230055435345353000000\n",
    "i = 0 \n",
    "etol = 1e-20\n",
    "\n",
    "start_time = time.time()\n",
    "while etol < diff:\n",
    "    i += 1 \n",
    "    x1 = f(x)\n",
    "    diff = np.abs(x1-x)\n",
    "    \n",
    "    \n",
    "    q1 = x1 -x\n",
    "    x2 = f(x1)\n",
    "    q2 = x2 -x1\n",
    "    # Form quadratic terms\n",
    "    sr2 = q1*q1\n",
    "    sq2 = np.sqrt(q2*q2)\n",
    "    sv2 = (q2-q1)*(q2-q1)\n",
    "    srv = q1*(q2-q1)\n",
    "    # get step-size \n",
    "    alpha = np.sqrt(sr2/sv2)\n",
    "    \n",
    "    xtmp = x + 2 * alpha * q1 + (alpha**2) * (q2-q1)\n",
    "    \n",
    "    xnew = f(xtmp)\n",
    "    \n",
    "    x = xnew\n",
    "print(\"--- %s seconds ---\" % (time.time() - start_time))\n",
    "print(diff)\n",
    "print(i)\n",
    "print(x)    "
   ]
  },
  {
   "cell_type": "code",
   "execution_count": null,
   "metadata": {
    "collapsed": true
   },
   "outputs": [],
   "source": []
  },
  {
   "cell_type": "code",
   "execution_count": null,
   "metadata": {
    "collapsed": true
   },
   "outputs": [],
   "source": []
  },
  {
   "cell_type": "code",
   "execution_count": null,
   "metadata": {},
   "outputs": [],
   "source": []
  },
  {
   "cell_type": "code",
   "execution_count": null,
   "metadata": {
    "collapsed": true
   },
   "outputs": [],
   "source": []
  }
 ],
 "metadata": {
  "kernelspec": {
   "display_name": "Python 3",
   "language": "python",
   "name": "python3"
  },
  "varInspector": {
   "cols": {
    "lenName": 16,
    "lenType": 16,
    "lenVar": 40
   },
   "kernels_config": {
    "python": {
     "delete_cmd_postfix": "",
     "delete_cmd_prefix": "del ",
     "library": "var_list.py",
     "varRefreshCmd": "print(var_dic_list())"
    },
    "r": {
     "delete_cmd_postfix": ") ",
     "delete_cmd_prefix": "rm(",
     "library": "var_list.r",
     "varRefreshCmd": "cat(var_dic_list()) "
    }
   },
   "position": {
    "height": "481px",
    "left": "1336.67px",
    "right": "20px",
    "top": "120px",
    "width": "327px"
   },
   "types_to_exclude": [
    "module",
    "function",
    "builtin_function_or_method",
    "instance",
    "_Feature"
   ],
   "window_display": true
  }
 },
 "nbformat": 4,
 "nbformat_minor": 2
}
